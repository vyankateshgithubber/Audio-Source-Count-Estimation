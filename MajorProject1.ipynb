{
  "nbformat": 4,
  "nbformat_minor": 0,
  "metadata": {
    "colab": {
      "name": "MajorProject1.ipynb",
      "provenance": [],
      "collapsed_sections": [],
      "mount_file_id": "1ARXpWndQO2PhRmjfO0PrXPfjujZxFCXU",
      "authorship_tag": "ABX9TyMMevWSsgwnULGdWFUW6FuQ",
      "include_colab_link": true
    },
    "kernelspec": {
      "name": "python3",
      "display_name": "Python 3"
    },
    "language_info": {
      "name": "python"
    }
  },
  "cells": [
    {
      "cell_type": "markdown",
      "metadata": {
        "id": "view-in-github",
        "colab_type": "text"
      },
      "source": [
        "<a href=\"https://colab.research.google.com/github/vyankateshgithubber/Audio-Source-Count-Estimation/blob/working/MajorProject1.ipynb\" target=\"_parent\"><img src=\"https://colab.research.google.com/assets/colab-badge.svg\" alt=\"Open In Colab\"/></a>"
      ]
    },
    {
      "cell_type": "code",
      "metadata": {
        "id": "C4rImvrx7kwz"
      },
      "source": [
        "!pip install wavefile\n",
        "import matplotlib.pyplot as plt\n",
        "import numpy as np\n",
        "from numpy.core.fromnumeric import size\n",
        "from scipy.io import loadmat\n",
        "from scipy.io.wavfile import write\n",
        "import wavefile\n",
        "import csv\n",
        "import pandas as pd\n",
        "\n",
        "\n",
        "def plot(h1,s1,convolved_speech_data1,h2,s2,convolved_speech_data2,mixed_signal) :\n",
        "  plt.subplot(3,1,1)\n",
        "  plt.subplots_adjust(hspace=1,wspace=5)\n",
        "  plt.title('Room Filter-1')\n",
        "  plt.plot(np.arange(0,80000),h1[:80000])\n",
        "  plt.subplot(3,1,2)\n",
        "  plt.title('Raw Source-1')\n",
        "  plt.plot(s1)\n",
        "  plt.subplot(3,1,3)\n",
        "  plt.title('Convolved Source-1 with Filter-1')\n",
        "  plt.plot(convolved_speech_data1)\n",
        "  plt.savefig('/content/drive/MyDrive/MajorProject/signal1.png')\n",
        "  plt.close()\n",
        "\n",
        "\n",
        "  plt.subplot(3,1,1)\n",
        "  plt.subplots_adjust(hspace=1,wspace=5)\n",
        "  plt.title('Room Filter-1')\n",
        "  plt.plot(np.arange(0,80000),h2[:80000])\n",
        "  plt.subplot(3,1,2)\n",
        "  plt.title('Raw Source-1')\n",
        "  plt.plot(s2)\n",
        "  plt.subplot(3,1,3)\n",
        "  plt.title('Convolved Source-1 with Filter-1')\n",
        "  plt.plot(convolved_speech_data2)\n",
        "  plt.savefig('/content/drive/MyDrive/MajorProject/signal2.png')\n",
        "  plt.close()\n",
        "\n",
        "  \n",
        "  plt.plot(mixed_signal)\n",
        "  plt.title('Mixed Source-1 and Source-2')\n",
        "  plt.savefig('/content/drive/MyDrive/MajorProject/mixedsignal.png')\n",
        "  plt.close()\n",
        "\n",
        "\n",
        "mat1 = loadmat('/content/drive/MyDrive/MajorProject/45.mat')\n",
        "h1 = mat1['impulse_response'][:,0]\n",
        "fs1, s1 = wavefile.load('/content/drive/MyDrive/MajorProject/s2_male.wav')\n",
        "s1=np.reshape(s1,s1.size)\n",
        "convolved_speech_data1 = np.convolve(s1[:80000],h1[:5000])\n",
        "\n",
        "fs3, s3 = wavefile.load('/content/drive/MyDrive/MajorProject/s3_female.wav')\n",
        "s3=np.reshape(s3,s3.size)\n",
        "convolved_speech_data3 = np.convolve(s3[:80000],h1[:5000])\n",
        "\n",
        "\n",
        "mat2 = loadmat('/content/drive/MyDrive/MajorProject/135.mat')\n",
        "fs2, s2 = wavefile.load('/content/drive/MyDrive/MajorProject/s1_female.wav')\n",
        "s2=np.reshape(s2,s2.size)\n",
        "h2 = mat2['impulse_response'][:,0]\n",
        "convolved_speech_data2 = np.convolve(s2[:80000],h2[:5000])\n",
        "\n",
        "fs4, s4 = wavefile.load('/content/drive/MyDrive/MajorProject/s4_male.wav')\n",
        "s4=np.reshape(s4,s4.size)\n",
        "convolved_speech_data4 = np.convolve(s4[:80000],h2[:5000])\n",
        "\n",
        "\n",
        "#plotting and storing a sample signal\n",
        "mixed_signal = convolved_speech_data1+convolved_speech_data2\n",
        "#plot(h1,s1,convolved_speech_data1,h2,s2,convolved_speech_data2,mixed_signal)   \n",
        "\n",
        "\n",
        "\n",
        "#creating the dataset that has two sources\n",
        "dataset={}\n",
        "for k1 in np.arange(0.02,1.02,0.02):\n",
        "  for k2 in np.arange(0.02,1.02,0.02):\n",
        "    mixed_signal = (k1*convolved_speech_data1) + (k2*convolved_speech_data2)\n",
        "    dataset['2_'+str(round(k1,2))+'_'+str(round(k2,2))]=mixed_signal\n",
        "\n",
        "\n",
        "df=pd.DataFrame.from_dict(dataset,orient='index')\n",
        "df.to_csv('/content/drive/MyDrive/MajorProject/Alldataset.csv',mode='a' , header=False)\n",
        "dataset={}\n",
        "\n",
        "#creating the dataset that has either s1_female and s2_male\n",
        "flag= True\n",
        "for k1 in np.arange(0.001,1.001,0.001):\n",
        "  if flag==True:\n",
        "    dataset['1_'+str(round(k1,3))+'_'+str(round(0,3))]= k1*convolved_speech_data1\n",
        "  else:\n",
        "     dataset['1_'+str(round(k1,3))+'_'+str(round(0,3))]= k1*convolved_speech_data2\n",
        "  flag = not flag\n",
        "\n",
        "df=pd.DataFrame.from_dict(dataset,orient='index')\n",
        "df.to_csv('/content/drive/MyDrive/MajorProject/Alldataset.csv',mode='a' , header=False)\n",
        "dataset={}\n",
        "\n",
        "\n",
        "#creating the dataset that has either s3_female and s4_male\n",
        "flag= True\n",
        "for k1 in np.arange(0.001,1.001,0.001):\n",
        "  if flag==True:\n",
        "    dataset['1_'+str(round(0,3))+'_'+str(round(k1,3))]= k1*convolved_speech_data3\n",
        "  else:\n",
        "     dataset['1_'+str(round(0,3))+'_'+str(round(k1,3))]= k1*convolved_speech_data4\n",
        "  flag = not flag\n",
        "\n",
        "df=pd.DataFrame.from_dict(dataset,orient='index')\n",
        "df.to_csv('/content/drive/MyDrive/MajorProject/Alldataset.csv',mode='a' , header=False)\n",
        "dataset={}"
      ],
      "execution_count": null,
      "outputs": []
    },
    {
      "cell_type": "code",
      "metadata": {
        "id": "yQD4j0-uzZhk",
        "colab": {
          "base_uri": "https://localhost:8080/"
        },
        "outputId": "62256d39-3701-4109-ac4b-228a6fbc7aff"
      },
      "source": [
        "import pandas as pd\n",
        "df=pd.read_csv('/content/drive/MyDrive/MajorProject/Alldataset.csv')\n",
        "print(df.tail(10))"
      ],
      "execution_count": 1,
      "outputs": [
        {
          "output_type": "stream",
          "name": "stdout",
          "text": [
            "       1_0.001_0  ...  1.339734675432514e-10\n",
            "4489  2_1.0_0.82  ...           1.227759e-07\n",
            "4490  2_1.0_0.84  ...           1.225028e-07\n",
            "4491  2_1.0_0.86  ...           1.222297e-07\n",
            "4492  2_1.0_0.88  ...           1.219566e-07\n",
            "4493   2_1.0_0.9  ...           1.216835e-07\n",
            "4494  2_1.0_0.92  ...           1.214104e-07\n",
            "4495  2_1.0_0.94  ...           1.211373e-07\n",
            "4496  2_1.0_0.96  ...           1.208641e-07\n",
            "4497  2_1.0_0.98  ...           1.205910e-07\n",
            "4498   2_1.0_1.0  ...           1.203179e-07\n",
            "\n",
            "[10 rows x 85000 columns]\n"
          ]
        }
      ]
    }
  ]
}