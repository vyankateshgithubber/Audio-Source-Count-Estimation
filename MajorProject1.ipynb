{
  "nbformat": 4,
  "nbformat_minor": 0,
  "metadata": {
    "colab": {
      "name": "MajorProject1.ipynb",
      "provenance": [],
      "collapsed_sections": [],
      "include_colab_link": true
    },
    "kernelspec": {
      "name": "python3",
      "display_name": "Python 3"
    },
    "language_info": {
      "name": "python"
    },
    "accelerator": "GPU"
  },
  "cells": [
    {
      "cell_type": "markdown",
      "metadata": {
        "id": "view-in-github",
        "colab_type": "text"
      },
      "source": [
        "<a href=\"https://colab.research.google.com/github/vyankateshgithubber/Audio-Source-Count-Estimation/blob/working/MajorProject1.ipynb\" target=\"_parent\"><img src=\"https://colab.research.google.com/assets/colab-badge.svg\" alt=\"Open In Colab\"/></a>"
      ]
    },
    {
      "cell_type": "code",
      "metadata": {
        "id": "FP7F1w_mmymM",
        "colab": {
          "base_uri": "https://localhost:8080/"
        },
        "outputId": "096c59d6-248d-4e78-d71c-b50bcb5c570a"
      },
      "source": [
        "from google.colab import drive\n",
        "drive.mount('/content/drive')"
      ],
      "execution_count": null,
      "outputs": [
        {
          "output_type": "stream",
          "name": "stdout",
          "text": [
            "Mounted at /content/drive\n"
          ]
        }
      ]
    },
    {
      "cell_type": "code",
      "metadata": {
        "id": "C4rImvrx7kwz",
        "colab": {
          "base_uri": "https://localhost:8080/"
        },
        "outputId": "4a3c7cdf-6665-48d7-901c-5e6a266ba2f2"
      },
      "source": [
        "!pip install wavefile\n",
        "import matplotlib.pyplot as plt\n",
        "import numpy as np\n",
        "from numpy.core.fromnumeric import size\n",
        "from scipy.io import loadmat\n",
        "from scipy.io.wavfile import write\n",
        "import wavefile\n",
        "import csv\n",
        "import pandas as pd\n",
        "\n",
        "def plot(h1,s1,convolved_speech_data1,h2,s2,convolved_speech_data2,mixed_signal) :\n",
        "  plt.subplot(3,1,1)\n",
        "  plt.subplots_adjust(hspace=1,wspace=5)\n",
        "  plt.title('Room Filter-1')\n",
        "  plt.plot(np.arange(0,80000),h1[:80000])\n",
        "  plt.subplot(3,1,2)\n",
        "  plt.title('Raw Source-1')\n",
        "  plt.plot(s1)\n",
        "  plt.subplot(3,1,3)\n",
        "  plt.title('Convolved Source-1 with Filter-1')\n",
        "  plt.plot(convolved_speech_data1)\n",
        "  plt.savefig('/content/drive/MyDrive/MajorProject/signal1.png')\n",
        "  plt.close()\n",
        "\n",
        "\n",
        "  plt.subplot(3,1,1)\n",
        "  plt.subplots_adjust(hspace=1,wspace=5)\n",
        "  plt.title('Room Filter-1')\n",
        "  plt.plot(np.arange(0,80000),h2[:80000])\n",
        "  plt.subplot(3,1,2)\n",
        "  plt.title('Raw Source-1')\n",
        "  plt.plot(s2)\n",
        "  plt.subplot(3,1,3)\n",
        "  plt.title('Convolved Source-1 with Filter-1')\n",
        "  plt.plot(convolved_speech_data2)\n",
        "  plt.savefig('/content/drive/MyDrive/MajorProject/signal2.png')\n",
        "  plt.close()\n",
        "\n",
        "  \n",
        "  plt.plot(mixed_signal)\n",
        "  plt.title('Mixed Source-1 and Source-2')\n",
        "  plt.savefig('/content/drive/MyDrive/MajorProject/mixedsignal.png')\n",
        "  plt.close()\n",
        "\n",
        "\n",
        "mat1 = loadmat('/content/drive/MyDrive/MajorProject/45.mat')\n",
        "h1 = mat1['impulse_response'][:,0]\n",
        "fs1, s1 = wavefile.load('/content/drive/MyDrive/MajorProject/s2_male.wav')\n",
        "s1=np.reshape(s1,s1.size)\n",
        "convolved_speech_data1 = np.convolve(s1[:80000],h1[:5000])\n",
        "\n",
        "fs3, s3 = wavefile.load('/content/drive/MyDrive/MajorProject/s3_female.wav')\n",
        "s3=np.reshape(s3,s3.size)\n",
        "convolved_speech_data3 = np.convolve(s3[:80000],h1[:5000])\n",
        "\n",
        "\n",
        "mat2 = loadmat('/content/drive/MyDrive/MajorProject/135.mat')\n",
        "fs2, s2 = wavefile.load('/content/drive/MyDrive/MajorProject/s1_female.wav')\n",
        "s2=np.reshape(s2,s2.size)\n",
        "h2 = mat2['impulse_response'][:,0]\n",
        "convolved_speech_data2 = np.convolve(s2[:80000],h2[:5000])\n",
        "\n",
        "fs4, s4 = wavefile.load('/content/drive/MyDrive/MajorProject/s4_male.wav')\n",
        "s4=np.reshape(s4,s4.size)\n",
        "convolved_speech_data4 = np.convolve(s4[:80000],h2[:5000])\n",
        "\n",
        "\n",
        "#plotting and storing a sample signal\n",
        "mixed_signal = convolved_speech_data1+convolved_speech_data2\n",
        "print(mixed_signal.size)\n",
        "#plot(h1,s1,convolved_speech_data1,h2,s2,convolved_speech_data2,mixed_signal)   \n",
        "\n",
        "\n",
        "\n",
        "#creating the dataset that has two sources\n",
        "for k1 in np.arange(0.02,1.02,0.02):\n",
        "  for k2 in np.arange(0.02,1.02,0.02):\n",
        "    mixed_signal = (k1*convolved_speech_data1) + (k2*convolved_speech_data2)\n",
        "    write('/content/drive/MyDrive/MajorProject/AudioDataset/'+'2_'+str(round(k1,3))+'_'+str(round(k2,3))+'.wav',fs2,mixed_signal.astype(np.float32))\n",
        "\n",
        "#creating the dataset that has either s1_female and s2_male\n",
        "flag= True\n",
        "for k1 in np.arange(0.001,1.001,0.001):\n",
        "  if flag==True:\n",
        "    convolved_speech = k1*convolved_speech_data1\n",
        "    write('/content/drive/MyDrive/MajorProject/AudioDataset/'+'1_'+str(round(k1,3))+'_'+str(round(0,3))+'.wav',fs1,convolved_speech.astype(np.float32))\n",
        "  else:\n",
        "    convolved_speech = k1*convolved_speech_data2\n",
        "    write('/content/drive/MyDrive/MajorProject/AudioDataset/'+'1_'+str(round(k1,3))+'_'+str(round(0,3))+'.wav',fs1,convolved_speech.astype(np.float32))\n",
        "\n",
        "  flag = not flag\n",
        "\n",
        "#creating the dataset that has either s3_female and s4_male\n",
        "flag= True\n",
        "for k1 in np.arange(0.001,1.001,0.001):\n",
        "  if flag==True:\n",
        "    convolved_speech= k1*convolved_speech_data3\n",
        "    write('/content/drive/MyDrive/MajorProject/AudioDataset/'+'1_'+str(round(0,3))+'_'+str(round(k1,3))+'.wav',fs1,convolved_speech.astype(np.float32))\n",
        "  else:\n",
        "    convolved_speech= k1*convolved_speech_data4\n",
        "    write('/content/drive/MyDrive/MajorProject/AudioDataset/'+'1_'+str(round(0,3))+'_'+str(round(k1,3))+'.wav',fs1,convolved_speech.astype(np.float32))\n",
        "\n",
        "  flag = not flag\n"
      ],
      "execution_count": null,
      "outputs": [
        {
          "output_type": "stream",
          "name": "stdout",
          "text": [
            "Collecting wavefile\n",
            "  Downloading wavefile-1.5.tar.gz (10 kB)\n",
            "Requirement already satisfied: numpy in /usr/local/lib/python3.7/dist-packages (from wavefile) (1.19.5)\n",
            "Building wheels for collected packages: wavefile\n",
            "  Building wheel for wavefile (setup.py) ... \u001b[?25l\u001b[?25hdone\n",
            "  Created wheel for wavefile: filename=wavefile-1.5-py3-none-any.whl size=11588 sha256=7c368c314379498cbe160fc4a7c9bf4124a751fe303fd092ee0149acdc829bae\n",
            "  Stored in directory: /root/.cache/pip/wheels/da/13/0f/4cef0631e2b18df2da6ebad4065f076b1807af1aecd1dce1a0\n",
            "Successfully built wavefile\n",
            "Installing collected packages: wavefile\n",
            "Successfully installed wavefile-1.5\n",
            "84999\n"
          ]
        }
      ]
    },
    {
      "cell_type": "code",
      "metadata": {
        "id": "snmNrJ_WoX9a"
      },
      "source": [
        ""
      ],
      "execution_count": null,
      "outputs": []
    }
  ]
}