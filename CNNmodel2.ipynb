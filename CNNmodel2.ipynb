{
  "nbformat": 4,
  "nbformat_minor": 0,
  "metadata": {
    "colab": {
      "name": "CNNmodel2.ipynb",
      "provenance": [],
      "mount_file_id": "1BPrAhEDU5Qye2Y0nSZuFg6Q6RYQ08UKS",
      "authorship_tag": "ABX9TyPcdq9CS4aBsigvG/PPpxbn",
      "include_colab_link": true
    },
    "kernelspec": {
      "display_name": "Python 3",
      "name": "python3"
    },
    "language_info": {
      "name": "python"
    }
  },
  "cells": [
    {
      "cell_type": "markdown",
      "metadata": {
        "id": "view-in-github",
        "colab_type": "text"
      },
      "source": [
        "<a href=\"https://colab.research.google.com/github/vyankateshgithubber/Audio-Source-Count-Estimation/blob/main/CNNmodel2.ipynb\" target=\"_parent\"><img src=\"https://colab.research.google.com/assets/colab-badge.svg\" alt=\"Open In Colab\"/></a>"
      ]
    },
    {
      "cell_type": "code",
      "metadata": {
        "id": "tcuzbYbDqzYE",
        "colab": {
          "base_uri": "https://localhost:8080/"
        },
        "outputId": "7af7e7f3-7362-4770-bbff-2a30c91fb89f"
      },
      "source": [
        "import librosa\n",
        "import numpy as np\n",
        "import matplotlib.pyplot as plt\n",
        "!pip install wavefile\n",
        "import wavefile"
      ],
      "execution_count": null,
      "outputs": [
        {
          "output_type": "stream",
          "name": "stdout",
          "text": [
            "Collecting wavefile\n",
            "  Downloading wavefile-1.5.tar.gz (10 kB)\n",
            "Requirement already satisfied: numpy in /usr/local/lib/python3.7/dist-packages (from wavefile) (1.19.5)\n",
            "Building wheels for collected packages: wavefile\n",
            "  Building wheel for wavefile (setup.py) ... \u001b[?25l\u001b[?25hdone\n",
            "  Created wheel for wavefile: filename=wavefile-1.5-py3-none-any.whl size=11588 sha256=1aa767ce90dc22e8c59ace46d896349db2331ed43e364bf53acfceaf424c4792\n",
            "  Stored in directory: /root/.cache/pip/wheels/da/13/0f/4cef0631e2b18df2da6ebad4065f076b1807af1aecd1dce1a0\n",
            "Successfully built wavefile\n",
            "Installing collected packages: wavefile\n",
            "Successfully installed wavefile-1.5\n"
          ]
        }
      ]
    },
    {
      "cell_type": "code",
      "metadata": {
        "colab": {
          "base_uri": "https://localhost:8080/"
        },
        "id": "oEO12sqaAHHq",
        "outputId": "cbdf616c-bc9b-45e8-892d-0af467e3fa70"
      },
      "source": [
        "def stft(y,sr):\n",
        "  S = np.abs(librosa.stft(y,n_fft=512,hop_length=256))\n",
        "  return S\n",
        "\n",
        "path = '/content/drive/MyDrive/MajorProject/AudioDataset/'\n",
        "k1 = 0.4\n",
        "k2 = 0.4\n",
        "audiofilepath = path+'2_'+str(round(k1,3))+'_'+str(round(k2,3))+'.wav'\n",
        "sr,signal = wavefile.load(audiofilepath)\n",
        "signal=np.reshape(signal,signal.size)\n",
        "stft(signal,sr)\n",
        "sr"
      ],
      "execution_count": null,
      "outputs": [
        {
          "output_type": "execute_result",
          "data": {
            "text/plain": [
              "16000"
            ]
          },
          "metadata": {},
          "execution_count": 2
        }
      ]
    },
    {
      "cell_type": "code",
      "metadata": {
        "id": "ekby3f_4rJiG"
      },
      "source": [
        "'''def features_labels():\n",
        "  X = []\n",
        "  y = []\n",
        "  path = '/content/drive/MyDrive/MajorProject/AudioDataset/'\n",
        "\n",
        "  for k1 in np.arange(0.2,1.2,0.2):\n",
        "    for k2 in np.arange(0.2,1.2,0.2):\n",
        "      audiofilepath = path+'2_'+str(round(k1,3))+'_'+str(round(k2,3))+'.wav'\n",
        "      signal, sr = librosa.load(path=audiofilepath)\n",
        "      X.append(stft(signal,sr))\n",
        "      y.append(1)\n",
        "\n",
        "  for k1 in np.arange(0.1,1.1,0.1):\n",
        "    audiofilepath = path+'1_'+str(round(k1,3))+'_'+str(round(0,3))+'.wav'\n",
        "    signal, sr = librosa.load(path=audiofilepath)\n",
        "    X.append(stft(signal,sr))\n",
        "    y.append(0)\n",
        "\n",
        "\n",
        "  for k1 in np.arange(0.1,1.1,0.1):\n",
        "    audiofilepath = path +'1_'+str(round(0,3))+'_'+str(round(k1,3))+'.wav'\n",
        "    signal, sr = librosa.load(path=audiofilepath)\n",
        "    X.append(stft(signal,sr))\n",
        "    y.append(0)\n",
        "\n",
        "  X = np.array(X)\n",
        "  y = np.array(y)\n",
        "  size = X.shape\n",
        "  X = X.reshape((size[0],size[1],size[2],1))\n",
        "  y = y.reshape((size[0],1))\n",
        "  return X,y\n",
        "'''"
      ],
      "execution_count": null,
      "outputs": []
    },
    {
      "cell_type": "code",
      "metadata": {
        "id": "lktebgnEC1_l"
      },
      "source": [
        "def features_labels():\n",
        "  X = []\n",
        "  y = []\n",
        "  path = '/content/drive/MyDrive/MajorProject/AudioDataset/'\n",
        "\n",
        "  for k1 in np.arange(0.02,1.02,0.02):\n",
        "    for k2 in np.arange(0.02,1.02,0.02):\n",
        "      audiofilepath = path+'2_'+str(round(k1,3))+'_'+str(round(k2,3))+'.wav'\n",
        "      sr,signal = wavefile.load(audiofilepath)\n",
        "      signal=np.reshape(signal,signal.size)\n",
        "      X.append(stft(signal,sr))\n",
        "      y.append(1)\n",
        "\n",
        "  for k1 in np.arange(0.001,1.001,0.001):\n",
        "    audiofilepath = path+'1_'+str(round(k1,3))+'_'+str(round(0,3))+'.wav'\n",
        "    sr,signal = wavefile.load(audiofilepath)\n",
        "    signal=np.reshape(signal,signal.size)\n",
        "    X.append(stft(signal,sr))\n",
        "    y.append(0)\n",
        "\n",
        "\n",
        "  for k1 in np.arange(0.001,1.001,0.001):\n",
        "    audiofilepath = path +'1_'+str(round(0,3))+'_'+str(round(k1,3))+'.wav'\n",
        "    sr,signal = wavefile.load(audiofilepath)\n",
        "    signal=np.reshape(signal,signal.size)\n",
        "    X.append(stft(signal,sr))\n",
        "    y.append(0)\n",
        "\n",
        "  X = np.array(X)\n",
        "  y = np.array(y)\n",
        "  size = X.shape\n",
        "  X = X.reshape((size[0],size[1],size[2],1))\n",
        "  y = y.reshape((size[0],1))\n",
        "  return X,y\n"
      ],
      "execution_count": null,
      "outputs": []
    },
    {
      "cell_type": "code",
      "metadata": {
        "id": "5XEjwmlN04J3",
        "colab": {
          "base_uri": "https://localhost:8080/"
        },
        "outputId": "f45ad781-3c4f-432b-8b7e-e67bc860db32"
      },
      "source": [
        "X,y = features_labels()\n",
        "X.shape,y.shape"
      ],
      "execution_count": null,
      "outputs": [
        {
          "output_type": "execute_result",
          "data": {
            "text/plain": [
              "((4500, 257, 333, 1), (4500, 1))"
            ]
          },
          "metadata": {},
          "execution_count": 4
        }
      ]
    },
    {
      "cell_type": "code",
      "metadata": {
        "id": "NX2lTbnDmtSc",
        "colab": {
          "base_uri": "https://localhost:8080/"
        },
        "outputId": "2c7bc843-58c4-494c-e97f-4da56e51f642"
      },
      "source": [
        "from sklearn.model_selection import train_test_split\n",
        "X_train, X_test, y_train, y_test = train_test_split(X, y, test_size=0.2,shuffle=True)\n",
        "print(X_train.shape,y_train.shape)"
      ],
      "execution_count": null,
      "outputs": [
        {
          "output_type": "stream",
          "name": "stdout",
          "text": [
            "(3600, 257, 333, 1) (3600, 1)\n"
          ]
        }
      ]
    },
    {
      "cell_type": "code",
      "metadata": {
        "id": "9-gJStve2P7N"
      },
      "source": [
        "import tensorflow as tf\n",
        "from tensorflow.keras.layers.experimental import preprocessing\n",
        "from tensorflow.keras import layers\n",
        "from tensorflow.keras import models\n",
        "\n",
        "def model1():\n",
        "  input_shape = X_train.shape[1:]\n",
        "  \n",
        "  model = models.Sequential([\n",
        "      layers.Input(shape=input_shape),\n",
        "      preprocessing.Resizing(32, 32), \n",
        "      layers.Conv2D(32, 3, activation='relu'),\n",
        "      layers.Conv2D(64, 3, activation='relu'),\n",
        "      layers.MaxPooling2D(),\n",
        "      layers.Dropout(0.25),\n",
        "      layers.Flatten(),\n",
        "      layers.Dense(128, activation='relu'),\n",
        "      layers.Dropout(0.5),\n",
        "      layers.Dense(2),\n",
        "    ])\n",
        "  \n",
        "  model.compile(optimizer=\"Adam\", loss=\"mse\", metrics=[\"accuracy\"])\n",
        "  \n",
        "  history = model.fit(X_train, y_train,validation_split=0.2, epochs=10)\n",
        "  \n",
        "  test_loss, test_acc = model.evaluate(X_test, y_test, verbose=2)\n",
        "  print(\"Test Loss \", test_loss)\n",
        "  print(\"Test Accuracy \", test_acc)\n",
        "  \n",
        "  plt.plot(history.history['accuracy'], label='accuracy')\n",
        "  plt.plot(history.history['val_accuracy'], label = 'val_accuracy')\n",
        "  plt.xlabel('Epoch')\n",
        "  plt.ylabel('Accuracy')\n",
        "  plt.legend(loc='lower right')"
      ],
      "execution_count": null,
      "outputs": []
    },
    {
      "cell_type": "code",
      "metadata": {
        "colab": {
          "base_uri": "https://localhost:8080/"
        },
        "id": "wsovlF6B5dmr",
        "outputId": "64772d0d-182e-4114-8d53-bfecc5566d0d"
      },
      "source": [
        "model1()"
      ],
      "execution_count": null,
      "outputs": [
        {
          "output_type": "stream",
          "name": "stdout",
          "text": [
            "Epoch 1/10\n",
            "90/90 [==============================] - 11s 111ms/step - loss: 0.1588 - accuracy: 0.5330 - val_loss: 0.0575 - val_accuracy: 0.8806\n",
            "Epoch 2/10\n",
            "90/90 [==============================] - 10s 109ms/step - loss: 0.0679 - accuracy: 0.5510 - val_loss: 0.0265 - val_accuracy: 0.6847\n",
            "Epoch 3/10\n",
            "90/90 [==============================] - 10s 108ms/step - loss: 0.0468 - accuracy: 0.5222 - val_loss: 0.0214 - val_accuracy: 0.8583\n",
            "Epoch 4/10\n",
            "90/90 [==============================] - 10s 108ms/step - loss: 0.0355 - accuracy: 0.5271 - val_loss: 0.0087 - val_accuracy: 0.5000\n",
            "Epoch 5/10\n",
            "90/90 [==============================] - 10s 108ms/step - loss: 0.0277 - accuracy: 0.5122 - val_loss: 0.0044 - val_accuracy: 0.7944\n",
            "Epoch 6/10\n",
            "90/90 [==============================] - 10s 108ms/step - loss: 0.0304 - accuracy: 0.5007 - val_loss: 0.0069 - val_accuracy: 0.7347\n",
            "Epoch 7/10\n",
            "90/90 [==============================] - 10s 108ms/step - loss: 0.0257 - accuracy: 0.5396 - val_loss: 0.0029 - val_accuracy: 0.4833\n",
            "Epoch 8/10\n",
            "90/90 [==============================] - 10s 108ms/step - loss: 0.0248 - accuracy: 0.4906 - val_loss: 0.0027 - val_accuracy: 0.4361\n",
            "Epoch 9/10\n",
            "90/90 [==============================] - 10s 108ms/step - loss: 0.0211 - accuracy: 0.5066 - val_loss: 0.0013 - val_accuracy: 0.8417\n",
            "Epoch 10/10\n",
            "90/90 [==============================] - 10s 108ms/step - loss: 0.0204 - accuracy: 0.4767 - val_loss: 8.2098e-04 - val_accuracy: 0.0319\n",
            "29/29 - 1s - loss: 9.6725e-04 - accuracy: 0.0322\n",
            "Test Loss  0.0009672517189756036\n",
            "Test Accuracy  0.03222222253680229\n"
          ]
        },
        {
          "output_type": "display_data",
          "data": {
            "image/png": "[encoded data removed]",
            "text/plain": [
              "<Figure size 432x288 with 1 Axes>"
            ]
          },
          "metadata": {
            "needs_background": "light"
          }
        }
      ]
    },
    {
      "cell_type": "code",
      "metadata": {
        "id": "p7oFiFfW5foM"
      },
      "source": [
        ""
      ],
      "execution_count": null,
      "outputs": []
    }
  ]
}