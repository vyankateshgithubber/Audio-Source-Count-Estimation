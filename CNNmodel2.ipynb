{
  "nbformat": 4,
  "nbformat_minor": 0,
  "metadata": {
    "colab": {
      "name": "CNNmodel2.ipynb",
      "provenance": [],
      "mount_file_id": "1BPrAhEDU5Qye2Y0nSZuFg6Q6RYQ08UKS",
      "authorship_tag": "ABX9TyMWjLlrKlyAD/ejwhP6i4Je",
      "include_colab_link": true
    },
    "kernelspec": {
      "display_name": "Python 3",
      "name": "python3"
    },
    "language_info": {
      "name": "python"
    },
    "accelerator": "GPU"
  },
  "cells": [
    {
      "cell_type": "markdown",
      "metadata": {
        "id": "view-in-github",
        "colab_type": "text"
      },
      "source": [
        "<a href=\"https://colab.research.google.com/github/vyankateshgithubber/Audio-Source-Count-Estimation/blob/working/CNNmodel2.ipynb\" target=\"_parent\"><img src=\"https://colab.research.google.com/assets/colab-badge.svg\" alt=\"Open In Colab\"/></a>"
      ]
    },
    {
      "cell_type": "code",
      "metadata": {
        "id": "tcuzbYbDqzYE",
        "colab": {
          "base_uri": "https://localhost:8080/"
        },
        "outputId": "8f0949a2-a29b-4056-e3e4-11e87af0ad35"
      },
      "source": [
        "import librosa\n",
        "import numpy as np\n",
        "import matplotlib.pyplot as plt\n",
        "!pip install wavefile\n",
        "import wavefile"
      ],
      "execution_count": null,
      "outputs": [
        {
          "output_type": "stream",
          "name": "stdout",
          "text": [
            "Collecting wavefile\n",
            "  Downloading wavefile-1.5.tar.gz (10 kB)\n",
            "Requirement already satisfied: numpy in /usr/local/lib/python3.7/dist-packages (from wavefile) (1.19.5)\n",
            "Building wheels for collected packages: wavefile\n",
            "  Building wheel for wavefile (setup.py) ... \u001b[?25l\u001b[?25hdone\n",
            "  Created wheel for wavefile: filename=wavefile-1.5-py3-none-any.whl size=11588 sha256=0d84a4498ff3a45371d8ea88ec64d53e6ecc99a08ef1adce86f6a4d6f32325b5\n",
            "  Stored in directory: /root/.cache/pip/wheels/da/13/0f/4cef0631e2b18df2da6ebad4065f076b1807af1aecd1dce1a0\n",
            "Successfully built wavefile\n",
            "Installing collected packages: wavefile\n",
            "Successfully installed wavefile-1.5\n"
          ]
        }
      ]
    },
    {
      "cell_type": "code",
      "metadata": {
        "colab": {
          "base_uri": "https://localhost:8080/"
        },
        "id": "oEO12sqaAHHq",
        "outputId": "07927883-fd6f-44b4-8466-bc2ff007faa1"
      },
      "source": [
        "def stft(y,sr):\n",
        "  S = np.abs(librosa.stft(y,n_fft=512,hop_length=256))\n",
        "  return S\n",
        "\n",
        "path = '/content/drive/MyDrive/MajorProject/AudioDataset/'\n",
        "k1 = 0.4\n",
        "k2 = 0.4\n",
        "audiofilepath = path+'2_'+str(round(k1,3))+'_'+str(round(k2,3))+'.wav'\n",
        "sr,signal = wavefile.load(audiofilepath)\n",
        "signal=np.reshape(signal,signal.size)\n",
        "stft(signal,sr)\n",
        "sr"
      ],
      "execution_count": null,
      "outputs": [
        {
          "output_type": "execute_result",
          "data": {
            "text/plain": [
              "16000"
            ]
          },
          "metadata": {},
          "execution_count": 6
        }
      ]
    },
    {
      "cell_type": "code",
      "metadata": {
        "id": "lktebgnEC1_l"
      },
      "source": [
        "def features_labels():\n",
        "  X = []\n",
        "  y = []\n",
        "  path = '/content/drive/MyDrive/MajorProject/AudioDataset/'\n",
        "\n",
        "  for k1 in np.arange(0.02,1.02,0.02):\n",
        "    for k2 in np.arange(0.02,1.02,0.02):\n",
        "      audiofilepath = path+'2_'+str(round(k1,3))+'_'+str(round(k2,3))+'.wav'\n",
        "      sr,signal = wavefile.load(audiofilepath)\n",
        "      signal=np.reshape(signal,signal.size)\n",
        "      X.append(stft(signal,sr))\n",
        "      y.append(1)\n",
        "\n",
        "  for k1 in np.arange(0.001,1.001,0.001):\n",
        "    audiofilepath = path+'1_'+str(round(k1,3))+'_'+str(round(0,3))+'.wav'\n",
        "    sr,signal = wavefile.load(audiofilepath)\n",
        "    signal=np.reshape(signal,signal.size)\n",
        "    X.append(stft(signal,sr))\n",
        "    y.append(0)\n",
        "\n",
        "\n",
        "  for k1 in np.arange(0.001,1.001,0.001):\n",
        "    audiofilepath = path +'1_'+str(round(0,3))+'_'+str(round(k1,3))+'.wav'\n",
        "    sr,signal = wavefile.load(audiofilepath)\n",
        "    signal=np.reshape(signal,signal.size)\n",
        "    X.append(stft(signal,sr))\n",
        "    y.append(0)\n",
        "\n",
        "  X = np.array(X)\n",
        "  y = np.array(y)\n",
        "  size = X.shape\n",
        "  X = X.reshape((size[0],size[1],size[2],1))\n",
        "  y = y.reshape((size[0],1))\n",
        "  return X,y\n"
      ],
      "execution_count": null,
      "outputs": []
    },
    {
      "cell_type": "code",
      "metadata": {
        "id": "5XEjwmlN04J3",
        "colab": {
          "base_uri": "https://localhost:8080/",
          "height": 299
        },
        "outputId": "92afd475-7e45-447e-c1d4-5c755a964983"
      },
      "source": [
        "X,y = features_labels()\n",
        "X.shape,y.shape"
      ],
      "execution_count": null,
      "outputs": [
        {
          "output_type": "error",
          "ename": "NameError",
          "evalue": "ignored",
          "traceback": [
            "\u001b[0;31m---------------------------------------------------------------------------\u001b[0m",
            "\u001b[0;31mNameError\u001b[0m                                 Traceback (most recent call last)",
            "\u001b[0;32m<ipython-input-5-60e5519cae71>\u001b[0m in \u001b[0;36m<module>\u001b[0;34m()\u001b[0m\n\u001b[0;32m----> 1\u001b[0;31m \u001b[0mX\u001b[0m\u001b[0;34m,\u001b[0m\u001b[0my\u001b[0m \u001b[0;34m=\u001b[0m \u001b[0mfeatures_labels\u001b[0m\u001b[0;34m(\u001b[0m\u001b[0;34m)\u001b[0m\u001b[0;34m\u001b[0m\u001b[0;34m\u001b[0m\u001b[0m\n\u001b[0m\u001b[1;32m      2\u001b[0m \u001b[0mX\u001b[0m\u001b[0;34m.\u001b[0m\u001b[0mshape\u001b[0m\u001b[0;34m,\u001b[0m\u001b[0my\u001b[0m\u001b[0;34m.\u001b[0m\u001b[0mshape\u001b[0m\u001b[0;34m\u001b[0m\u001b[0;34m\u001b[0m\u001b[0m\n",
            "\u001b[0;32m<ipython-input-4-88806abf7ff2>\u001b[0m in \u001b[0;36mfeatures_labels\u001b[0;34m()\u001b[0m\n\u001b[1;32m      9\u001b[0m       \u001b[0msr\u001b[0m\u001b[0;34m,\u001b[0m\u001b[0msignal\u001b[0m \u001b[0;34m=\u001b[0m \u001b[0mwavefile\u001b[0m\u001b[0;34m.\u001b[0m\u001b[0mload\u001b[0m\u001b[0;34m(\u001b[0m\u001b[0maudiofilepath\u001b[0m\u001b[0;34m)\u001b[0m\u001b[0;34m\u001b[0m\u001b[0;34m\u001b[0m\u001b[0m\n\u001b[1;32m     10\u001b[0m       \u001b[0msignal\u001b[0m\u001b[0;34m=\u001b[0m\u001b[0mnp\u001b[0m\u001b[0;34m.\u001b[0m\u001b[0mreshape\u001b[0m\u001b[0;34m(\u001b[0m\u001b[0msignal\u001b[0m\u001b[0;34m,\u001b[0m\u001b[0msignal\u001b[0m\u001b[0;34m.\u001b[0m\u001b[0msize\u001b[0m\u001b[0;34m)\u001b[0m\u001b[0;34m\u001b[0m\u001b[0;34m\u001b[0m\u001b[0m\n\u001b[0;32m---> 11\u001b[0;31m       \u001b[0mX\u001b[0m\u001b[0;34m.\u001b[0m\u001b[0mappend\u001b[0m\u001b[0;34m(\u001b[0m\u001b[0mstft\u001b[0m\u001b[0;34m(\u001b[0m\u001b[0msignal\u001b[0m\u001b[0;34m,\u001b[0m\u001b[0msr\u001b[0m\u001b[0;34m)\u001b[0m\u001b[0;34m)\u001b[0m\u001b[0;34m\u001b[0m\u001b[0;34m\u001b[0m\u001b[0m\n\u001b[0m\u001b[1;32m     12\u001b[0m       \u001b[0my\u001b[0m\u001b[0;34m.\u001b[0m\u001b[0mappend\u001b[0m\u001b[0;34m(\u001b[0m\u001b[0;36m1\u001b[0m\u001b[0;34m)\u001b[0m\u001b[0;34m\u001b[0m\u001b[0;34m\u001b[0m\u001b[0m\n\u001b[1;32m     13\u001b[0m \u001b[0;34m\u001b[0m\u001b[0m\n",
            "\u001b[0;31mNameError\u001b[0m: name 'stft' is not defined"
          ]
        }
      ]
    },
    {
      "cell_type": "code",
      "metadata": {
        "colab": {
          "base_uri": "https://localhost:8080/"
        },
        "id": "5jHnh_0qY_CM",
        "outputId": "ce27fcc1-9ad0-4eb8-f339-307f64978bdb"
      },
      "source": [
        "y"
      ],
      "execution_count": null,
      "outputs": [
        {
          "output_type": "execute_result",
          "data": {
            "text/plain": [
              "array([[1],\n",
              "       [1],\n",
              "       [1],\n",
              "       ...,\n",
              "       [0],\n",
              "       [0],\n",
              "       [0]])"
            ]
          },
          "metadata": {},
          "execution_count": 89
        }
      ]
    },
    {
      "cell_type": "code",
      "metadata": {
        "id": "NX2lTbnDmtSc",
        "colab": {
          "base_uri": "https://localhost:8080/"
        },
        "outputId": "346f4de5-44c4-4055-e323-3648f239b950"
      },
      "source": [
        "from sklearn.model_selection import train_test_split\n",
        "X_train, X_test, y_train, y_test = train_test_split(X, y, test_size=0.2,shuffle=True)\n",
        "print(X_train.shape,y_train.shape)"
      ],
      "execution_count": null,
      "outputs": [
        {
          "output_type": "stream",
          "name": "stdout",
          "text": [
            "(3600, 257, 333, 1) (3600, 1)\n"
          ]
        }
      ]
    },
    {
      "cell_type": "code",
      "metadata": {
        "id": "9-gJStve2P7N"
      },
      "source": [
        "import tensorflow as tf\n",
        "from tensorflow.keras.layers.experimental import preprocessing\n",
        "from tensorflow.keras import layers\n",
        "from tensorflow.keras import models\n",
        "\n",
        "def model1():\n",
        "  input_shape = X_train.shape[1:]\n",
        "  \n",
        "  model = models.Sequential([\n",
        "      layers.Input(shape=input_shape),\n",
        "      preprocessing.Resizing(32, 32), \n",
        "      layers.Conv2D(32, 3, activation='relu'),\n",
        "      layers.Conv2D(64, 3, activation='relu'),\n",
        "      layers.MaxPooling2D(),\n",
        "      layers.Dropout(0.25),\n",
        "      layers.Flatten(),\n",
        "      layers.Dense(128, activation='relu'),\n",
        "      layers.Dropout(0.5),\n",
        "      layers.Dense(1),\n",
        "    ])\n",
        "  \n",
        "  model.compile(optimizer=\"Adam\", loss=\"mse\", metrics=[\"accuracy\"])\n",
        "  \n",
        "  history = model.fit(X_train, y_train,validation_split=0.2, epochs=10)\n",
        "  \n",
        "  test_loss, test_acc = model.evaluate(X_test, y_test, verbose=2)\n",
        "  print(\"Test Loss \", test_loss)\n",
        "  print(\"Test Accuracy \", test_acc)\n",
        "  \n",
        "  plt.plot(history.history['accuracy'], label='accuracy')\n",
        "  plt.plot(history.history['val_accuracy'], label = 'val_accuracy')\n",
        "  plt.xlabel('Epoch')\n",
        "  plt.ylabel('Accuracy')\n",
        "  plt.legend(loc='lower right')\n",
        "  return model"
      ],
      "execution_count": null,
      "outputs": []
    },
    {
      "cell_type": "code",
      "metadata": {
        "colab": {
          "base_uri": "https://localhost:8080/",
          "height": 690
        },
        "id": "wsovlF6B5dmr",
        "outputId": "a3030493-a99a-486c-e927-e59211cc041a"
      },
      "source": [
        "model = model1()"
      ],
      "execution_count": null,
      "outputs": [
        {
          "output_type": "stream",
          "name": "stdout",
          "text": [
            "Epoch 1/10\n",
            "90/90 [==============================] - 2s 18ms/step - loss: 0.1857 - accuracy: 0.7701 - val_loss: 0.0787 - val_accuracy: 0.9417\n",
            "Epoch 2/10\n",
            "90/90 [==============================] - 1s 14ms/step - loss: 0.0732 - accuracy: 0.9260 - val_loss: 0.0302 - val_accuracy: 0.9708\n",
            "Epoch 3/10\n",
            "90/90 [==============================] - 1s 14ms/step - loss: 0.0447 - accuracy: 0.9698 - val_loss: 0.0159 - val_accuracy: 0.9861\n",
            "Epoch 4/10\n",
            "90/90 [==============================] - 1s 13ms/step - loss: 0.0334 - accuracy: 0.9819 - val_loss: 0.0095 - val_accuracy: 0.9958\n",
            "Epoch 5/10\n",
            "90/90 [==============================] - 1s 14ms/step - loss: 0.0283 - accuracy: 0.9865 - val_loss: 0.0066 - val_accuracy: 0.9903\n",
            "Epoch 6/10\n",
            "90/90 [==============================] - 1s 14ms/step - loss: 0.0259 - accuracy: 0.9889 - val_loss: 0.0038 - val_accuracy: 0.9972\n",
            "Epoch 7/10\n",
            "90/90 [==============================] - 1s 15ms/step - loss: 0.0241 - accuracy: 0.9948 - val_loss: 0.0066 - val_accuracy: 1.0000\n",
            "Epoch 8/10\n",
            "90/90 [==============================] - 1s 14ms/step - loss: 0.0223 - accuracy: 0.9958 - val_loss: 0.0056 - val_accuracy: 0.9931\n",
            "Epoch 9/10\n",
            "90/90 [==============================] - 1s 13ms/step - loss: 0.0196 - accuracy: 0.9976 - val_loss: 0.0039 - val_accuracy: 0.9944\n",
            "Epoch 10/10\n",
            "90/90 [==============================] - 1s 13ms/step - loss: 0.0186 - accuracy: 0.9983 - val_loss: 0.0054 - val_accuracy: 0.9958\n",
            "29/29 - 0s - loss: 0.0044 - accuracy: 0.9989\n",
            "Test Loss  0.0043866680935025215\n",
            "Test Accuracy  0.9988889098167419\n"
          ]
        },
        {
          "output_type": "display_data",
          "data": {
            "image/png": "[encoded data removed]",
            "text/plain": [
              "<Figure size 432x288 with 1 Axes>"
            ]
          },
          "metadata": {
            "needs_background": "light"
          }
        }
      ]
    },
    {
      "cell_type": "code",
      "metadata": {
        "id": "p7oFiFfW5foM"
      },
      "source": [
        "model.save('/content/drive/MyDrive/MajorProject/Models/my_model.h5')"
      ],
      "execution_count": null,
      "outputs": []
    },
    {
      "cell_type": "code",
      "metadata": {
        "colab": {
          "base_uri": "https://localhost:8080/"
        },
        "id": "LxetL9bxccJJ",
        "outputId": "854452db-a401-40fc-d34b-d40e0fbb389c"
      },
      "source": [
        "import tensorflow as tf\n",
        "new_model = tf.keras.models.load_model('/content/drive/MyDrive/MajorProject/Models/my_model.h5')\n",
        "\n",
        "# Show the model architecture\n",
        "new_model.summary()\n"
      ],
      "execution_count": null,
      "outputs": [
        {
          "output_type": "stream",
          "name": "stdout",
          "text": [
            "Model: \"sequential_2\"\n",
            "_________________________________________________________________\n",
            "Layer (type)                 Output Shape              Param #   \n",
            "=================================================================\n",
            "resizing_2 (Resizing)        (None, 32, 32, 1)         0         \n",
            "_________________________________________________________________\n",
            "conv2d_4 (Conv2D)            (None, 30, 30, 32)        320       \n",
            "_________________________________________________________________\n",
            "conv2d_5 (Conv2D)            (None, 28, 28, 64)        18496     \n",
            "_________________________________________________________________\n",
            "max_pooling2d_2 (MaxPooling2 (None, 14, 14, 64)        0         \n",
            "_________________________________________________________________\n",
            "dropout_4 (Dropout)          (None, 14, 14, 64)        0         \n",
            "_________________________________________________________________\n",
            "flatten_2 (Flatten)          (None, 12544)             0         \n",
            "_________________________________________________________________\n",
            "dense_4 (Dense)              (None, 128)               1605760   \n",
            "_________________________________________________________________\n",
            "dropout_5 (Dropout)          (None, 128)               0         \n",
            "_________________________________________________________________\n",
            "dense_5 (Dense)              (None, 1)                 129       \n",
            "=================================================================\n",
            "Total params: 1,624,705\n",
            "Trainable params: 1,624,705\n",
            "Non-trainable params: 0\n",
            "_________________________________________________________________\n"
          ]
        }
      ]
    },
    {
      "cell_type": "code",
      "metadata": {
        "id": "1t9r56O2dCqU",
        "colab": {
          "base_uri": "https://localhost:8080/",
          "height": 180
        },
        "outputId": "29a09b51-5ddf-47d5-f009-1c8ad330320e"
      },
      "source": [
        "y_test_predict = new_model.predict(X_test)\n",
        "y_test_predict = np.round(y_test_predict).astype('int32')"
      ],
      "execution_count": null,
      "outputs": [
        {
          "output_type": "error",
          "ename": "NameError",
          "evalue": "ignored",
          "traceback": [
            "\u001b[0;31m---------------------------------------------------------------------------\u001b[0m",
            "\u001b[0;31mNameError\u001b[0m                                 Traceback (most recent call last)",
            "\u001b[0;32m<ipython-input-3-e58fa95a8a18>\u001b[0m in \u001b[0;36m<module>\u001b[0;34m()\u001b[0m\n\u001b[0;32m----> 1\u001b[0;31m \u001b[0my_test_predict\u001b[0m \u001b[0;34m=\u001b[0m \u001b[0mnew_model\u001b[0m\u001b[0;34m.\u001b[0m\u001b[0mpredict\u001b[0m\u001b[0;34m(\u001b[0m\u001b[0mX_test\u001b[0m\u001b[0;34m)\u001b[0m\u001b[0;34m\u001b[0m\u001b[0;34m\u001b[0m\u001b[0m\n\u001b[0m\u001b[1;32m      2\u001b[0m \u001b[0my_test_predict\u001b[0m \u001b[0;34m=\u001b[0m \u001b[0mnp\u001b[0m\u001b[0;34m.\u001b[0m\u001b[0mround\u001b[0m\u001b[0;34m(\u001b[0m\u001b[0my_test_predict\u001b[0m\u001b[0;34m)\u001b[0m\u001b[0;34m.\u001b[0m\u001b[0mastype\u001b[0m\u001b[0;34m(\u001b[0m\u001b[0;34m'int32'\u001b[0m\u001b[0;34m)\u001b[0m\u001b[0;34m\u001b[0m\u001b[0;34m\u001b[0m\u001b[0m\n",
            "\u001b[0;31mNameError\u001b[0m: name 'X_test' is not defined"
          ]
        }
      ]
    },
    {
      "cell_type": "code",
      "metadata": {
        "colab": {
          "base_uri": "https://localhost:8080/",
          "height": 282
        },
        "id": "gKh-EkFlJSAa",
        "outputId": "f9a67ee3-fe09-401e-8afa-327f8382fed0"
      },
      "source": [
        "from sklearn.metrics import confusion_matrix\n",
        "import seaborn as sns\n",
        "\n",
        "cf_matrix = confusion_matrix(y_test , y_test_predict)\n",
        "sns.heatmap(cf_matrix, annot=True)"
      ],
      "execution_count": null,
      "outputs": [
        {
          "output_type": "execute_result",
          "data": {
            "text/plain": [
              "<matplotlib.axes._subplots.AxesSubplot at 0x7ff276805d10>"
            ]
          },
          "metadata": {},
          "execution_count": 60
        },
        {
          "output_type": "display_data",
          "data": {
            "image/png": "[encoded data removed]",
            "text/plain": [
              "<Figure size 432x288 with 2 Axes>"
            ]
          },
          "metadata": {
            "needs_background": "light"
          }
        }
      ]
    },
    {
      "cell_type": "code",
      "metadata": {
        "colab": {
          "base_uri": "https://localhost:8080/",
          "height": 282
        },
        "id": "9x71VyTcP9pp",
        "outputId": "ee9f42e7-3a74-4b3e-aa03-2fea585edf6d"
      },
      "source": [
        "group_names = [\"True Neg\",\"False Pos\",\"False Neg\",\"True Pos\"]\n",
        "group_counts = ['{0:0.0f}'.format(value) for value in\n",
        "                cf_matrix.flatten()]\n",
        "group_percentages = ['{0:.2%}'.format(value) for value in\n",
        "                     cf_matrix.flatten()/np.sum(cf_matrix)]\n",
        "labels = [f\"{v1}\\n{v2}\\n{v3}\" for v1, v2, v3 in\n",
        "          zip(group_names,group_counts,group_percentages)]\n",
        "labels = np.asarray(labels).reshape(2,2)\n",
        "sns.heatmap(cf_matrix, annot=labels, fmt='', cmap='Blues')\n"
      ],
      "execution_count": null,
      "outputs": [
        {
          "output_type": "execute_result",
          "data": {
            "text/plain": [
              "<matplotlib.axes._subplots.AxesSubplot at 0x7ff275a059d0>"
            ]
          },
          "metadata": {},
          "execution_count": 67
        },
        {
          "output_type": "display_data",
          "data": {
            "image/png": "[encoded data removed]",
            "text/plain": [
              "<Figure size 432x288 with 2 Axes>"
            ]
          },
          "metadata": {
            "needs_background": "light"
          }
        }
      ]
    },
    {
      "cell_type": "code",
      "metadata": {
        "id": "5nf9KHTTOyI3"
      },
      "source": [
        "def prediction(test_filepath):\n",
        "  sr,signal = wavefile.load(test_filepath)\n",
        "  signal=np.reshape(signal,signal.size)\n",
        "  feature = stft(signal,sr)\n",
        "  size = feature.shape\n",
        "  feature = feature.reshape(1,size[0],size[1])\n",
        "  output = new_model.predict(feature)\n",
        "  output = np.round(output).astype('int32')\n",
        "  return output\n"
      ],
      "execution_count": null,
      "outputs": []
    },
    {
      "cell_type": "code",
      "metadata": {
        "id": "asnESyadVHOc",
        "colab": {
          "base_uri": "https://localhost:8080/"
        },
        "outputId": "c210343b-0ffa-45e7-e0c1-68868a3eef84"
      },
      "source": [
        "path = '/content/drive/MyDrive/MajorProject/AudioDataset/'\n",
        "k1 = 0.4\n",
        "k2 = 0.4\n",
        "audiofilepath = path+'2_'+str(round(k1,3))+'_'+str(round(k2,3))+'.wav'\n",
        "#test_filepath = '/content/drive/MyDrive/MajorProject/s4_male.wav'\n",
        "output = prediction(test_filepath)"
      ],
      "execution_count": null,
      "outputs": [
        {
          "output_type": "stream",
          "name": "stdout",
          "text": [
            "WARNING:tensorflow:Model was constructed with shape (None, 257, 333, 1) for input KerasTensor(type_spec=TensorSpec(shape=(None, 257, 333, 1), dtype=tf.float32, name='input_3'), name='input_3', description=\"created by layer 'input_3'\"), but it was called on an input with incompatible shape (None, 257, 313, 1).\n"
          ]
        }
      ]
    },
    {
      "cell_type": "code",
      "metadata": {
        "colab": {
          "base_uri": "https://localhost:8080/"
        },
        "id": "2a0IhCZgXCiz",
        "outputId": "36a7cc0c-0b41-40bf-d16d-0752cbec9ae2"
      },
      "source": [
        "output"
      ],
      "execution_count": null,
      "outputs": [
        {
          "output_type": "execute_result",
          "data": {
            "text/plain": [
              "array([[0]], dtype=int32)"
            ]
          },
          "metadata": {},
          "execution_count": 13
        }
      ]
    },
    {
      "cell_type": "code",
      "metadata": {
        "id": "IasF4cZ9XkyI"
      },
      "source": [
        ""
      ],
      "execution_count": null,
      "outputs": []
    }
  ]
}