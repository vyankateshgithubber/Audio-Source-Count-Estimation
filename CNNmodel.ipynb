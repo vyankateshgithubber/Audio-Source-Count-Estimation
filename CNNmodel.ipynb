{
  "nbformat": 4,
  "nbformat_minor": 0,
  "metadata": {
    "colab": {
      "name": "CNNmodel.ipynb",
      "provenance": [],
      "mount_file_id": "1BPrAhEDU5Qye2Y0nSZuFg6Q6RYQ08UKS",
      "authorship_tag": "ABX9TyMRJM+u7b4d8V4U4gZt2W65",
      "include_colab_link": true
    },
    "kernelspec": {
      "display_name": "Python 3",
      "name": "python3"
    },
    "language_info": {
      "name": "python"
    }
  },
  "cells": [
    {
      "cell_type": "markdown",
      "metadata": {
        "id": "view-in-github",
        "colab_type": "text"
      },
      "source": [
        "<a href=\"https://colab.research.google.com/github/vyankateshgithubber/Audio-Source-Count-Estimation/blob/working/CNNmodel.ipynb\" target=\"_parent\"><img src=\"https://colab.research.google.com/assets/colab-badge.svg\" alt=\"Open In Colab\"/></a>"
      ]
    },
    {
      "cell_type": "code",
      "metadata": {
        "id": "tcuzbYbDqzYE"
      },
      "source": [
        "import librosa\n",
        "import numpy as np\n",
        "import matplotlib.pyplot as plt"
      ],
      "execution_count": 3,
      "outputs": []
    },
    {
      "cell_type": "code",
      "metadata": {
        "id": "C8kRk5ZWpu4H"
      },
      "source": [
        "def stft(y,sr):\n",
        "  S = np.abs(librosa.stft(y))\n",
        "  return S"
      ],
      "execution_count": 4,
      "outputs": []
    },
    {
      "cell_type": "code",
      "metadata": {
        "id": "ekby3f_4rJiG"
      },
      "source": [
        "X = []\n",
        "y = []\n",
        "path = '/content/drive/MyDrive/MajorProject/AudioDataset/'\n",
        "\n",
        "for k1 in np.arange(0.2,1.2,0.2):\n",
        "  for k2 in np.arange(0.2,1.2,0.2):\n",
        "    audiofilepath = path+'2_'+str(round(k1,3))+'_'+str(round(k2,3))+'.wav'\n",
        "    signal, sr = librosa.load(path=audiofilepath)\n",
        "    X.append(stft(signal,sr))\n",
        "    y.append(1)\n",
        "\n",
        "\n",
        "for k1 in np.arange(0.1,1.1,0.1):\n",
        "  audiofilepath = path+'1_'+str(round(k1,3))+'_'+str(round(0,3))+'.wav'\n",
        "  signal, sr = librosa.load(path=audiofilepath)\n",
        "  X.append(stft(signal,sr))\n",
        "  y.append(0)\n",
        "\n",
        "\n",
        "for k1 in np.arange(0.1,1.1,0.1):\n",
        "  audiofilepath = path +'1_'+str(round(0,3))+'_'+str(round(k1,3))+'.wav'\n",
        "  signal, sr = librosa.load(path=audiofilepath)\n",
        "  X.append(stft(signal,sr))\n",
        "  y.append(0)\n",
        "\n",
        "\n",
        "X = np.array(X)\n",
        "y = np.array(y)\n",
        "size = X.shape\n",
        "X = X.reshape((size[0],size[1],size[2],1))\n",
        "y = y.reshape((size[0],1))\n"
      ],
      "execution_count": 5,
      "outputs": []
    },
    {
      "cell_type": "code",
      "metadata": {
        "colab": {
          "base_uri": "https://localhost:8080/"
        },
        "id": "5XEjwmlN04J3",
        "outputId": "cf86091f-ab14-42ef-f96a-1554bdf5815b"
      },
      "source": [
        "X.shape,y.shape"
      ],
      "execution_count": 43,
      "outputs": [
        {
          "output_type": "execute_result",
          "data": {
            "text/plain": [
              "((45, 1025, 229, 1), (45, 1))"
            ]
          },
          "metadata": {},
          "execution_count": 43
        }
      ]
    },
    {
      "cell_type": "code",
      "metadata": {
        "id": "NX2lTbnDmtSc"
      },
      "source": [
        "from sklearn.model_selection import train_test_split\n",
        "X_train, X_test, y_train, y_test = train_test_split(X, y, test_size=0.2,shuffle=True)"
      ],
      "execution_count": 44,
      "outputs": []
    },
    {
      "cell_type": "code",
      "metadata": {
        "colab": {
          "base_uri": "https://localhost:8080/"
        },
        "id": "z40DQn60mv-P",
        "outputId": "cd02bd3d-c5df-4307-a418-191998f9303a"
      },
      "source": [
        "print(X_train.shape,y_train.shape)"
      ],
      "execution_count": 45,
      "outputs": [
        {
          "output_type": "stream",
          "name": "stdout",
          "text": [
            "(36, 1025, 229, 1) (36, 1)\n"
          ]
        }
      ]
    },
    {
      "cell_type": "code",
      "metadata": {
        "id": "QQM-igsOsqyx"
      },
      "source": [
        "import tensorflow as tf\n",
        "from tensorflow.keras.layers.experimental import preprocessing\n",
        "from tensorflow.keras import layers\n",
        "from tensorflow.keras import models\n"
      ],
      "execution_count": 46,
      "outputs": []
    },
    {
      "cell_type": "code",
      "metadata": {
        "id": "cqYgUIQ2o-w6"
      },
      "source": [
        "input_shape = X_train.shape[1:]\n",
        "model = models.Sequential([\n",
        "    layers.Input(shape=input_shape),\n",
        "    preprocessing.Resizing(32, 32), \n",
        "    layers.Conv2D(32, 3, activation='relu'),\n",
        "    layers.Conv2D(64, 3, activation='relu'),\n",
        "    layers.MaxPooling2D(),\n",
        "    layers.Dropout(0.25),\n",
        "    layers.Flatten(),\n",
        "    layers.Dense(128, activation='relu'),\n",
        "    layers.Dropout(0.5),\n",
        "    layers.Dense(3),\n",
        "])\n"
      ],
      "execution_count": 72,
      "outputs": []
    },
    {
      "cell_type": "code",
      "metadata": {
        "colab": {
          "base_uri": "https://localhost:8080/"
        },
        "id": "xBL4DLDLtfQ7",
        "outputId": "6ecec5a6-41b6-47a7-d809-26ae7258bbd4"
      },
      "source": [
        "model.summary()"
      ],
      "execution_count": 73,
      "outputs": [
        {
          "output_type": "stream",
          "name": "stdout",
          "text": [
            "Model: \"sequential_7\"\n",
            "_________________________________________________________________\n",
            "Layer (type)                 Output Shape              Param #   \n",
            "=================================================================\n",
            "resizing_4 (Resizing)        (None, 32, 32, 1)         0         \n",
            "_________________________________________________________________\n",
            "conv2d_17 (Conv2D)           (None, 30, 30, 32)        320       \n",
            "_________________________________________________________________\n",
            "conv2d_18 (Conv2D)           (None, 28, 28, 64)        18496     \n",
            "_________________________________________________________________\n",
            "max_pooling2d_10 (MaxPooling (None, 14, 14, 64)        0         \n",
            "_________________________________________________________________\n",
            "dropout_8 (Dropout)          (None, 14, 14, 64)        0         \n",
            "_________________________________________________________________\n",
            "flatten_4 (Flatten)          (None, 12544)             0         \n",
            "_________________________________________________________________\n",
            "dense_8 (Dense)              (None, 128)               1605760   \n",
            "_________________________________________________________________\n",
            "dropout_9 (Dropout)          (None, 128)               0         \n",
            "_________________________________________________________________\n",
            "dense_9 (Dense)              (None, 3)                 387       \n",
            "=================================================================\n",
            "Total params: 1,624,963\n",
            "Trainable params: 1,624,963\n",
            "Non-trainable params: 0\n",
            "_________________________________________________________________\n"
          ]
        }
      ]
    },
    {
      "cell_type": "code",
      "metadata": {
        "colab": {
          "base_uri": "https://localhost:8080/"
        },
        "id": "VIiN8cFFuRj2",
        "outputId": "19fe0b16-af4b-44d1-dd56-2746c74235e0"
      },
      "source": [
        "model.compile(optimizer=\"Adam\", loss=\"mse\", metrics=[\"accuracy\"])\n",
        "history = model.fit(X_train, y_train,validation_split=0.2, epochs=10)"
      ],
      "execution_count": 76,
      "outputs": [
        {
          "output_type": "stream",
          "name": "stdout",
          "text": [
            "Epoch 1/10\n",
            "1/1 [==============================] - 1s 744ms/step - loss: 0.2845 - accuracy: 0.5000 - val_loss: 0.2397 - val_accuracy: 0.5000\n",
            "Epoch 2/10\n",
            "1/1 [==============================] - 0s 126ms/step - loss: 0.2224 - accuracy: 0.5357 - val_loss: 0.2131 - val_accuracy: 0.6250\n",
            "Epoch 3/10\n",
            "1/1 [==============================] - 0s 125ms/step - loss: 0.3226 - accuracy: 0.4286 - val_loss: 0.2165 - val_accuracy: 0.8750\n",
            "Epoch 4/10\n",
            "1/1 [==============================] - 0s 124ms/step - loss: 0.2625 - accuracy: 0.4643 - val_loss: 0.2438 - val_accuracy: 0.7500\n",
            "Epoch 5/10\n",
            "1/1 [==============================] - 0s 125ms/step - loss: 0.1745 - accuracy: 0.4643 - val_loss: 0.2617 - val_accuracy: 0.8750\n",
            "Epoch 6/10\n",
            "1/1 [==============================] - 0s 122ms/step - loss: 0.2230 - accuracy: 0.3571 - val_loss: 0.2623 - val_accuracy: 0.8750\n",
            "Epoch 7/10\n",
            "1/1 [==============================] - 0s 126ms/step - loss: 0.2940 - accuracy: 0.3214 - val_loss: 0.2522 - val_accuracy: 0.8750\n",
            "Epoch 8/10\n",
            "1/1 [==============================] - 0s 122ms/step - loss: 0.1892 - accuracy: 0.3571 - val_loss: 0.2381 - val_accuracy: 0.7500\n",
            "Epoch 9/10\n",
            "1/1 [==============================] - 0s 119ms/step - loss: 0.1999 - accuracy: 0.5357 - val_loss: 0.2226 - val_accuracy: 0.7500\n",
            "Epoch 10/10\n",
            "1/1 [==============================] - 0s 127ms/step - loss: 0.1452 - accuracy: 0.5000 - val_loss: 0.2083 - val_accuracy: 0.7500\n"
          ]
        }
      ]
    },
    {
      "cell_type": "code",
      "metadata": {
        "colab": {
          "base_uri": "https://localhost:8080/",
          "height": 299
        },
        "id": "x9vhxBFwxThz",
        "outputId": "0034df36-8a6b-4159-d28f-d4b095ab6656"
      },
      "source": [
        "plt.plot(history.history['accuracy'], label='accuracy')\n",
        "plt.plot(history.history['val_accuracy'], label = 'val_accuracy')\n",
        "plt.xlabel('Epoch')\n",
        "plt.ylabel('Accuracy')\n",
        "plt.legend(loc='lower right')"
      ],
      "execution_count": 77,
      "outputs": [
        {
          "output_type": "execute_result",
          "data": {
            "text/plain": [
              "<matplotlib.legend.Legend at 0x7fa2d0300310>"
            ]
          },
          "metadata": {},
          "execution_count": 77
        },
        {
          "output_type": "display_data",
          "data": {
            "image/png": "[encoded data removed]",
            "text/plain": [
              "<Figure size 432x288 with 1 Axes>"
            ]
          },
          "metadata": {
            "needs_background": "light"
          }
        }
      ]
    },
    {
      "cell_type": "code",
      "metadata": {
        "colab": {
          "base_uri": "https://localhost:8080/"
        },
        "id": "YCkmWEZS1s9l",
        "outputId": "05e84d14-991b-4f00-a784-45a417e33116"
      },
      "source": [
        "test_loss, test_acc = model.evaluate(X_test, y_test, verbose=2)\n",
        "print(\"Test Loss \", test_loss)\n",
        "print(\"Test Accuracy \", test_acc)"
      ],
      "execution_count": 78,
      "outputs": [
        {
          "output_type": "stream",
          "name": "stdout",
          "text": [
            "1/1 - 0s - loss: 0.1471 - accuracy: 0.8889\n",
            "Test Loss  0.14707361161708832\n",
            "Test Accuracy  0.8888888955116272\n"
          ]
        }
      ]
    },
    {
      "cell_type": "code",
      "metadata": {
        "id": "9-gJStve2P7N"
      },
      "source": [
        "import tensorflow as tf\n",
        "from tensorflow.keras.layers.experimental import preprocessing\n",
        "from tensorflow.keras import layers\n",
        "from tensorflow.keras import models\n",
        "\n",
        "def model1():\n",
        "  input_shape = X_train.shape[1:]\n",
        "  model = models.Sequential([\n",
        "      layers.Input(shape=input_shape),\n",
        "      preprocessing.Resizing(32, 32), \n",
        "      #layers.Conv2D(32, 3, activation='relu'),\n",
        "      layers.Conv2D(64, 3, activation='relu'),\n",
        "      layers.MaxPooling2D(),\n",
        "      layers.Dropout(0.25),\n",
        "      layers.Flatten(),\n",
        "      layers.Dense(128, activation='relu'),\n",
        "      layers.Dropout(0.5),\n",
        "      layers.Dense(3),\n",
        "    ])\n",
        "  model.compile(optimizer=\"Adam\", loss=\"mse\", metrics=[\"accuracy\"])\n",
        "  history = model.fit(X_train, y_train,validation_split=0.2, epochs=10)\n",
        "  test_loss, test_acc = model.evaluate(X_test, y_test, verbose=2)\n",
        "  print(\"Test Loss \", test_loss)\n",
        "  print(\"Test Accuracy \", test_acc)\n",
        "  plt.plot(history.history['accuracy'], label='accuracy')\n",
        "  plt.plot(history.history['val_accuracy'], label = 'val_accuracy')\n",
        "  plt.xlabel('Epoch')\n",
        "  plt.ylabel('Accuracy')\n",
        "  plt.legend(loc='lower right')\n"
      ],
      "execution_count": 1,
      "outputs": []
    },
    {
      "cell_type": "code",
      "metadata": {
        "colab": {
          "base_uri": "https://localhost:8080/",
          "height": 282
        },
        "id": "wsovlF6B5dmr",
        "outputId": "22c95516-7788-42aa-a489-16cf453e6ca4"
      },
      "source": [
        "model1()"
      ],
      "execution_count": 2,
      "outputs": [
        {
          "output_type": "error",
          "ename": "NameError",
          "evalue": "ignored",
          "traceback": [
            "\u001b[0;31m---------------------------------------------------------------------------\u001b[0m",
            "\u001b[0;31mNameError\u001b[0m                                 Traceback (most recent call last)",
            "\u001b[0;32m<ipython-input-2-758eda02518a>\u001b[0m in \u001b[0;36m<module>\u001b[0;34m()\u001b[0m\n\u001b[0;32m----> 1\u001b[0;31m \u001b[0mmodel1\u001b[0m\u001b[0;34m(\u001b[0m\u001b[0;34m)\u001b[0m\u001b[0;34m\u001b[0m\u001b[0;34m\u001b[0m\u001b[0m\n\u001b[0m",
            "\u001b[0;32m<ipython-input-1-569dd4f36d05>\u001b[0m in \u001b[0;36mmodel1\u001b[0;34m()\u001b[0m\n\u001b[1;32m      5\u001b[0m \u001b[0;34m\u001b[0m\u001b[0m\n\u001b[1;32m      6\u001b[0m \u001b[0;32mdef\u001b[0m \u001b[0mmodel1\u001b[0m\u001b[0;34m(\u001b[0m\u001b[0;34m)\u001b[0m\u001b[0;34m:\u001b[0m\u001b[0;34m\u001b[0m\u001b[0;34m\u001b[0m\u001b[0m\n\u001b[0;32m----> 7\u001b[0;31m   \u001b[0minput_shape\u001b[0m \u001b[0;34m=\u001b[0m \u001b[0mX_train\u001b[0m\u001b[0;34m.\u001b[0m\u001b[0mshape\u001b[0m\u001b[0;34m[\u001b[0m\u001b[0;36m1\u001b[0m\u001b[0;34m:\u001b[0m\u001b[0;34m]\u001b[0m\u001b[0;34m\u001b[0m\u001b[0;34m\u001b[0m\u001b[0m\n\u001b[0m\u001b[1;32m      8\u001b[0m   model = models.Sequential([\n\u001b[1;32m      9\u001b[0m       \u001b[0mlayers\u001b[0m\u001b[0;34m.\u001b[0m\u001b[0mInput\u001b[0m\u001b[0;34m(\u001b[0m\u001b[0mshape\u001b[0m\u001b[0;34m=\u001b[0m\u001b[0minput_shape\u001b[0m\u001b[0;34m)\u001b[0m\u001b[0;34m,\u001b[0m\u001b[0;34m\u001b[0m\u001b[0;34m\u001b[0m\u001b[0m\n",
            "\u001b[0;31mNameError\u001b[0m: name 'X_train' is not defined"
          ]
        }
      ]
    },
    {
      "cell_type": "code",
      "metadata": {
        "id": "p7oFiFfW5foM"
      },
      "source": [
        ""
      ],
      "execution_count": null,
      "outputs": []
    }
  ]
}